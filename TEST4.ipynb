{
 "cells": [
  {
   "cell_type": "code",
   "execution_count": 1,
   "metadata": {},
   "outputs": [
    {
     "name": "stdout",
     "output_type": "stream",
     "text": [
      "New quantities already defined\n"
     ]
    },
    {
     "name": "stderr",
     "output_type": "stream",
     "text": [
      "WARNING: AstropyDeprecationWarning: astropy.extern.six will be removed in 4.0, use the six module directly if it is still needed [astropy.extern.six]\n"
     ]
    }
   ],
   "source": [
    "# -*- coding: utf-8 -*-\n",
    "# Licensed under a 3-clause BSD style license - see LICENSE.rst\n",
    "import logging\n",
    "import os\n",
    "import warnings\n",
    "from collections import OrderedDict\n",
    "from multiprocessing import Pool\n",
    "\n",
    "import astropy\n",
    "from astropy.table import Table, hstack\n",
    "import astropy.units as u\n",
    "from astropy.io import ascii\n",
    "from astropy.constants import alpha, c, e, hbar, m_e, m_p, sigma_sb\n",
    "from astropy.utils.data import get_pkg_data_filename\n",
    "from astropy.cosmology import WMAP9 as cosmo\n",
    "\n",
    "import numpy as np\n",
    "import matplotlib.pyplot as plt\n",
    "\n",
    "from Validator import (\n",
    "    validate_array,\n",
    "    validate_physical_type,\n",
    "    validate_scalar,\n",
    ")\n",
    "#from .model_utils import memoize\n",
    "from Utils import trapz_loglog\n",
    "\n",
    "import Models\n",
    "import Radiative\n",
    "import grbloader\n",
    "from GRBmodel import GRBModel1\n",
    "from GRBmodelstr import GRBModel_topstruc\n",
    "from Models import EblAbsorptionModel\n",
    "\n",
    "from astropy.units import def_physical_type\n",
    "\n",
    "try:\n",
    "    #def_physical_type(u.Unit(\"1 / eV\"), \"differential energy\")\n",
    "    def_physical_type(u.erg / u.cm**2 / u.s, \"flux\")\n",
    "    def_physical_type(u.Unit(\"1/(s cm2 erg)\"), \"differential flux\")\n",
    "    def_physical_type(u.Unit(\"1/(s erg)\"), \"differential power\")\n",
    "    def_physical_type(u.Unit(\"1/TeV\"), \"differential energy\")\n",
    "    def_physical_type(u.Unit(\"1/cm3\"), \"number density\")\n",
    "    def_physical_type(u.Unit(\"1/(eV cm3)\"), \"differential number density\")\n",
    "\n",
    "except ValueError:\n",
    "    print(\"New quantities already defined\")"
   ]
  },
  {
   "cell_type": "code",
   "execution_count": 2,
   "metadata": {},
   "outputs": [
    {
     "data": {
      "image/png": "[encoded data removed]",
      "text/plain": [
       "<Figure size 720x72 with 1 Axes>"
      ]
     },
     "metadata": {
      "needs_background": "light"
     },
     "output_type": "display_data"
    },
    {
     "data": {
      "image/png": "[encoded data removed]",
      "text/plain": [
       "<Figure size 720x72 with 1 Axes>"
      ]
     },
     "metadata": {
      "needs_background": "light"
     },
     "output_type": "display_data"
    }
   ],
   "source": [
    "from matplotlib import cm\n",
    "from matplotlib.colors import Normalize, LinearSegmentedColormap\n",
    "from matplotlib.colorbar import ColorbarBase\n",
    "\n",
    "def truncate_colormap(cmap, minval=0.0, maxval=1.0, n=100):\n",
    "    new_cmap = LinearSegmentedColormap.from_list(\n",
    "        f'trunc({cmap.name},{minval:.2f},{maxval:.2f})',\n",
    "        cmap(np.linspace(minval, maxval, n))\n",
    "    )\n",
    "    return new_cmap\n",
    "\n",
    "vmin = 0.1\n",
    "vmax = 1\n",
    "original_cmap = plt.cm.plasma\n",
    "\n",
    "cmap1 = truncate_colormap(original_cmap, vmin, vmax)\n",
    "fig, ax = plt.subplots(figsize=(10, 1))\n",
    "fig.subplots_adjust(bottom=0.5)\n",
    "norm = Normalize(vmin, vmax)  # da 0 a 1 perché stai solo mostrando il segmento\n",
    "cb = ColorbarBase(ax,cmap=cmap1,norm=norm,orientation='horizontal')\n",
    "cb.set_label(f'Segmento di viridis da {vmin} a {vmax}')\n",
    "plt.show()\n",
    "\n",
    "vmin = 0.1\n",
    "vmax = 0.9\n",
    "original_cmap2 = plt.cm.viridis\n",
    "\n",
    "cmap2 = truncate_colormap(original_cmap2, vmin, vmax)\n",
    "fig, ax = plt.subplots(figsize=(10, 1))\n",
    "fig.subplots_adjust(bottom=0.5)\n",
    "norm = Normalize(vmin, vmax)  # da 0 a 1 perché stai solo mostrando il segmento\n",
    "cb = ColorbarBase(ax,cmap=cmap2,norm=norm,orientation='horizontal')\n",
    "cb.set_label(f'Segmento di viridis da {vmin} a {vmax}')\n",
    "plt.show()\n"
   ]
  },
  {
   "cell_type": "code",
   "execution_count": 3,
   "metadata": {},
   "outputs": [],
   "source": [
    "############################################### PARAMETERS ####################################\n",
    "\n",
    "Eiso = 8e51  # erg\n",
    "density = 0.01 #0.5  # cm-3\n",
    "redshift = 0.1\n",
    "tstart = 68   # s\n",
    "tstop = 110   # s\n",
    "\n",
    "#-----list of parameters of a electron distribution (log10) ------\n",
    "\n",
    "eta_e=-1.44\n",
    "Ebreak=-1.62\n",
    "Index2=3.3\n",
    "Ec=1.32  # cutoff energy in TeV\n",
    "B=0.25\n",
    "\n",
    "#################################################################################################"
   ]
  },
  {
   "cell_type": "code",
   "execution_count": 4,
   "metadata": {},
   "outputs": [
    {
     "name": "stdout",
     "output_type": "stream",
     "text": [
      "WARNING: No dataset given,\n",
      "the code can be used only for computation of theoretical curves\n",
      "WARNING: No dataset given,\n",
      "the code can be used only for computation of theoretical curves\n",
      "Radius:2.2820004332222675e+17\n",
      "depth:245225540316707.47\n",
      "volume:1.604748613734658e+50\n",
      "Lsy 100:1.7169275010289502e+52 1 / (eV s)\n",
      "Photon density 100: 875165.0084414401 1 / (cm3 eV)\n",
      "doppler:103.39689877485736\n"
     ]
    },
    {
     "ename": "TypeError",
     "evalue": "'float' object is not subscriptable",
     "output_type": "error",
     "traceback": [
      "\u001b[0;31m---------------------------------------------------------------------------\u001b[0m",
      "\u001b[0;31mTypeError\u001b[0m                                 Traceback (most recent call last)",
      "\u001b[0;32m<ipython-input-4-edb6c7f64be3>\u001b[0m in \u001b[0;36m<module>\u001b[0;34m\u001b[0m\n\u001b[1;32m     37\u001b[0m     \u001b[0mener\u001b[0m \u001b[0;34m=\u001b[0m \u001b[0mTable\u001b[0m\u001b[0;34m(\u001b[0m\u001b[0;34m[\u001b[0m\u001b[0mnp\u001b[0m\u001b[0;34m.\u001b[0m\u001b[0mlogspace\u001b[0m\u001b[0;34m(\u001b[0m\u001b[0mnp\u001b[0m\u001b[0;34m.\u001b[0m\u001b[0mlog10\u001b[0m\u001b[0;34m(\u001b[0m\u001b[0memin\u001b[0m\u001b[0;34m)\u001b[0m\u001b[0;34m,\u001b[0m \u001b[0mnp\u001b[0m\u001b[0;34m.\u001b[0m\u001b[0mlog10\u001b[0m\u001b[0;34m(\u001b[0m\u001b[0memax\u001b[0m\u001b[0;34m)\u001b[0m\u001b[0;34m,\u001b[0m \u001b[0mbins\u001b[0m\u001b[0;34m)\u001b[0m \u001b[0;34m*\u001b[0m \u001b[0mu\u001b[0m\u001b[0;34m.\u001b[0m\u001b[0meV\u001b[0m\u001b[0;34m]\u001b[0m\u001b[0;34m,\u001b[0m \u001b[0mnames\u001b[0m\u001b[0;34m=\u001b[0m\u001b[0;34m[\u001b[0m\u001b[0;34m'energy'\u001b[0m\u001b[0;34m]\u001b[0m\u001b[0;34m)\u001b[0m  \u001b[0;31m# energy in eV\u001b[0m\u001b[0;34m\u001b[0m\u001b[0;34m\u001b[0m\u001b[0m\n\u001b[1;32m     38\u001b[0m \u001b[0;34m\u001b[0m\u001b[0m\n\u001b[0;32m---> 39\u001b[0;31m     \u001b[0mmodel\u001b[0m\u001b[0;34m=\u001b[0m\u001b[0mgrb\u001b[0m\u001b[0;34m.\u001b[0m\u001b[0m_SSCmodel_ind1fixed\u001b[0m\u001b[0;34m(\u001b[0m\u001b[0mpars\u001b[0m\u001b[0;34m=\u001b[0m\u001b[0;34m[\u001b[0m\u001b[0meta_e\u001b[0m\u001b[0;34m,\u001b[0m \u001b[0mEbreak\u001b[0m\u001b[0;34m,\u001b[0m\u001b[0mIndex2\u001b[0m\u001b[0;34m,\u001b[0m \u001b[0mEc\u001b[0m\u001b[0;34m,\u001b[0m \u001b[0mB\u001b[0m\u001b[0;34m]\u001b[0m\u001b[0;34m,\u001b[0m\u001b[0mdata\u001b[0m\u001b[0;34m=\u001b[0m\u001b[0mener\u001b[0m\u001b[0;34m)\u001b[0m\u001b[0;34m\u001b[0m\u001b[0;34m\u001b[0m\u001b[0m\n\u001b[0m\u001b[1;32m     40\u001b[0m     \u001b[0mmodel_str\u001b[0m\u001b[0;34m=\u001b[0m\u001b[0mgrb_struc\u001b[0m\u001b[0;34m.\u001b[0m\u001b[0m_SSCmodel_ind1fixed\u001b[0m\u001b[0;34m(\u001b[0m\u001b[0mpars\u001b[0m\u001b[0;34m=\u001b[0m\u001b[0;34m[\u001b[0m\u001b[0meta_e\u001b[0m\u001b[0;34m,\u001b[0m \u001b[0mEbreak\u001b[0m\u001b[0;34m,\u001b[0m\u001b[0mIndex2\u001b[0m\u001b[0;34m,\u001b[0m \u001b[0mEc\u001b[0m\u001b[0;34m,\u001b[0m \u001b[0mB\u001b[0m\u001b[0;34m]\u001b[0m\u001b[0;34m,\u001b[0m\u001b[0mdata\u001b[0m\u001b[0;34m=\u001b[0m\u001b[0mener\u001b[0m\u001b[0;34m)\u001b[0m\u001b[0;34m\u001b[0m\u001b[0;34m\u001b[0m\u001b[0m\n\u001b[1;32m     41\u001b[0m \u001b[0;34m\u001b[0m\u001b[0m\n",
      "\u001b[0;32m/media/tobiazenbook/PortableSSD1/JOB/Projects/GRB-modelling/CODE/GRBmodelling/GRBmodel.py\u001b[0m in \u001b[0;36m_SSCmodel_ind1fixed\u001b[0;34m(self, pars, data)\u001b[0m\n\u001b[1;32m    563\u001b[0m         \u001b[0mprint\u001b[0m\u001b[0;34m(\u001b[0m\u001b[0;34mf\"doppler:{doppler}\"\u001b[0m\u001b[0;34m)\u001b[0m\u001b[0;34m\u001b[0m\u001b[0;34m\u001b[0m\u001b[0m\n\u001b[1;32m    564\u001b[0m         \u001b[0mself\u001b[0m\u001b[0;34m.\u001b[0m\u001b[0msynch_comp\u001b[0m \u001b[0;34m=\u001b[0m \u001b[0;34m(\u001b[0m\u001b[0mdoppler\u001b[0m \u001b[0;34m**\u001b[0m \u001b[0;36m2.\u001b[0m\u001b[0;34m)\u001b[0m \u001b[0;34m*\u001b[0m \u001b[0mSYN\u001b[0m\u001b[0;34m.\u001b[0m\u001b[0msed\u001b[0m\u001b[0;34m(\u001b[0m\u001b[0mdata\u001b[0m\u001b[0;34m[\u001b[0m\u001b[0;34m'energy'\u001b[0m\u001b[0;34m]\u001b[0m \u001b[0;34m/\u001b[0m \u001b[0mdoppler\u001b[0m \u001b[0;34m*\u001b[0m \u001b[0mredf\u001b[0m\u001b[0;34m,\u001b[0m \u001b[0mdistance\u001b[0m\u001b[0;34m=\u001b[0m\u001b[0mself\u001b[0m\u001b[0;34m.\u001b[0m\u001b[0mDl\u001b[0m\u001b[0;34m)\u001b[0m\u001b[0;34m*\u001b[0m\u001b[0mredf\u001b[0m\u001b[0;34m\u001b[0m\u001b[0;34m\u001b[0m\u001b[0m\n\u001b[0;32m--> 565\u001b[0;31m         \u001b[0mprint\u001b[0m\u001b[0;34m(\u001b[0m\u001b[0;34mf\"SEd 100:{SYN.sed(data['energy'] / doppler * redf, distance=self.Dl)*redf[100]}\"\u001b[0m\u001b[0;34m)\u001b[0m\u001b[0;34m\u001b[0m\u001b[0;34m\u001b[0m\u001b[0m\n\u001b[0m\u001b[1;32m    566\u001b[0m         \u001b[0mself\u001b[0m\u001b[0;34m.\u001b[0m\u001b[0mic_comp\u001b[0m \u001b[0;34m=\u001b[0m    \u001b[0;34m(\u001b[0m\u001b[0mdoppler\u001b[0m \u001b[0;34m**\u001b[0m \u001b[0;36m2.\u001b[0m\u001b[0;34m)\u001b[0m \u001b[0;34m*\u001b[0m  \u001b[0mIC\u001b[0m\u001b[0;34m.\u001b[0m\u001b[0msed\u001b[0m\u001b[0;34m(\u001b[0m\u001b[0mdata\u001b[0m\u001b[0;34m[\u001b[0m\u001b[0;34m'energy'\u001b[0m\u001b[0;34m]\u001b[0m \u001b[0;34m/\u001b[0m \u001b[0mdoppler\u001b[0m \u001b[0;34m*\u001b[0m \u001b[0mredf\u001b[0m\u001b[0;34m,\u001b[0m \u001b[0mdistance\u001b[0m\u001b[0;34m=\u001b[0m\u001b[0mself\u001b[0m\u001b[0;34m.\u001b[0m\u001b[0mDl\u001b[0m\u001b[0;34m)\u001b[0m\u001b[0;34m*\u001b[0m\u001b[0mredf\u001b[0m\u001b[0;34m\u001b[0m\u001b[0;34m\u001b[0m\u001b[0m\n\u001b[1;32m    567\u001b[0m         \u001b[0mmodel_wo_abs\u001b[0m \u001b[0;34m=\u001b[0m \u001b[0;34m(\u001b[0m\u001b[0mself\u001b[0m\u001b[0;34m.\u001b[0m\u001b[0msynch_comp\u001b[0m\u001b[0;34m+\u001b[0m\u001b[0mself\u001b[0m\u001b[0;34m.\u001b[0m\u001b[0mic_comp\u001b[0m\u001b[0;34m)\u001b[0m \u001b[0;31m# Total model without absorption\u001b[0m\u001b[0;34m\u001b[0m\u001b[0;34m\u001b[0m\u001b[0m\n",
      "\u001b[0;31mTypeError\u001b[0m: 'float' object is not subscriptable"
     ]
    },
    {
     "data": {
      "text/plain": [
       "<Figure size 864x576 with 0 Axes>"
      ]
     },
     "metadata": {},
     "output_type": "display_data"
    }
   ],
   "source": [
    "#multi_Eiso=np.logspace(49,52,10)\n",
    "multi_Eiso = [8e51]\n",
    "\n",
    "# Plot\n",
    "plt.figure(figsize=(12,8))\n",
    "plt.rc('font', family='sans')\n",
    "plt.rc('mathtext', fontset='custom')\n",
    "\n",
    "#plt.loglog(spectrum_energy,sed_SYN,lw=2,label='Sync',c=cmap2(0.9))\n",
    "color=0\n",
    "\n",
    "for Eiso in multi_Eiso:\n",
    "    \n",
    "    grb = GRBModel1(eiso=Eiso, dens=density, tstart=tstart, tstop=tstop, redshift=redshift,\n",
    "                        pars=[eta_e, Ebreak,Index2, Ec,  B],\n",
    "                        labels=['log10(eta_e)', 'log10(Ebreak)', 'Index2', 'log10(Ec)', 'log10(B)'],scenario='ISM',cooling_constrain=False,data=None)\n",
    "    \n",
    "    \n",
    "    grb_struc= GRBModel_topstruc(eiso_zero=Eiso, dens=density, tstart=tstart, tstop=tstop, redshift=redshift,\n",
    "                        pars=[eta_e, Ebreak,Index2, Ec,  B],\n",
    "                        labels=['log10(eta_e)', 'log10(Ebreak)', 'Index2', 'log10(Ec)', 'log10(B)'],\n",
    "                        energy_profile='gaussian',shells=1, thetaend=90.0,\n",
    "                        scenario='ISM',cooling_constrain=False,data=None)\n",
    "\n",
    "    \n",
    "    \"\"\"grb_struc1= GRBModel_topstruc(eiso_zero=Eiso, dens=density, tstart=tstart, tstop=tstop, redshift=redshift,\n",
    "                    pars=[eta_e, Ebreak,Index2, Ec,  B],\n",
    "                    labels=['log10(eta_e)', 'log10(Ebreak)', 'Index2', 'log10(Ec)', 'log10(B)'],\n",
    "                    energy_profile='gaussian',shells=1, thetaend=5.0,\n",
    "                    scenario='ISM',cooling_constrain=False,data=None)\"\"\"\n",
    "    \n",
    "\n",
    "                     \n",
    "    emin=1e-3\n",
    "    emax=1e16\n",
    "    bins = int(np.log10(emax/emin) * 20.)  # use 20 bins per decade\n",
    "    ener = Table([np.logspace(np.log10(emin), np.log10(emax), bins) * u.eV], names=['energy'])  # energy in eV\n",
    "\n",
    "    model=grb._SSCmodel_ind1fixed(pars=[eta_e, Ebreak,Index2, Ec, B],data=ener)\n",
    "    model_str=grb_struc._SSCmodel_ind1fixed(pars=[eta_e, Ebreak,Index2, Ec, B],data=ener)\n",
    "\n",
    "    \n",
    "    SSC=model[0]\n",
    "    SSC2=model_str[0]\n",
    "    \n",
    "    ymax=np.max(SSC).value\n",
    "    ymin=np.min(SSC).value\n",
    "    \n",
    "    ordine = int(np.ceil(np.log10(ymax)))\n",
    "    ymax = 10**ordine\n",
    "    ymin = 10**(ordine - 6)\n",
    "    \n",
    "    #grb.plot_sed(1e-3,1e16,6)\n",
    "    spectrum_energy=np.logspace(np.log10(emin), np.log10(emax), bins) * u.eV\n",
    "    \n",
    "    plt.loglog(spectrum_energy,grb.ic_compGG2,lw=1.5,ls='--',c=\"black\")\n",
    "    plt.loglog(spectrum_energy,grb.synch_compGG2,lw=1.5,ls=':',c=\"gray\")\n",
    "    plt.loglog(spectrum_energy,grb_struc.synch_comp[0,:],lw=1.5,c=\"green\") \n",
    "    #plt.loglog(spectrum_energy,grb_struc1.synch_comp[0,:],lw=1.5,c=\"green\") \n",
    "    #plt.loglog(spectrum_energy,grb_struc.synch_comp[1,:],lw=1.5,ls=':',c=\"green\")\n",
    "    #plt.loglog(spectrum_energy,grb_struc.synch_comp[2,:],lw=1.5,ls=':',c=\"green\")\n",
    "    #plt.loglog(spectrum_energy,grb_struc.synch_comp[3,:],lw=1.5,ls=':',c=\"green\")\n",
    "    #plt.loglog(spectrum_energy,grb_struc.ic_comp[0,:],lw=1.5,ls=':',c=\"green\")\n",
    " \n",
    "\n",
    "    plt.loglog(spectrum_energy,SSC,lw=2,label=f'SSC -Eiso= {\"{:.1e}\".format(Eiso)}',c=cmap2(color))\n",
    "    #plt.loglog(spectrum_energy,SSC,lw=2,label=f'SSC -Eiso= {\"{:.1e}\".format(Eiso)}',c=cmap2(color))\n",
    "    color=color+0.1\n",
    "\n",
    "plt.xlabel('Photon energy [{0}]'.format(spectrum_energy.unit.to_string('latex_inline')),fontsize=15)\n",
    "plt.ylabel('$E^2 dN/dE$ [{0}]'.format(model[0].unit.to_string('latex_inline')),fontsize=15)\n",
    "\n",
    "plt.ylim(ymin, ymax)\n",
    "#plt.xlim(1e-3,5e16)\n",
    "plt.tight_layout()\n",
    "plt.legend(loc='lower left')\n",
    "\n",
    "\n",
    "plt.title(f\"SSC test\",fontsize=15)\n",
    "plt.grid(True, which=\"both\", linestyle=\"--\", alpha=0.6)\n",
    "\n",
    "#plt.savefig(\"/media/tobiazenbook/PortableSSD/JOB/Projects/GRB-modelling/Plots-April30/plot1\", format=\"jpg\", dpi=300)\n",
    "plt.show()"
   ]
  },
  {
   "cell_type": "code",
   "execution_count": null,
   "metadata": {},
   "outputs": [],
   "source": [
    "theta_inf=0\n",
    "theta_sup=90\n",
    "print(np.cos(theta_inf) - np.cos(theta_sup))"
   ]
  },
  {
   "cell_type": "code",
   "execution_count": null,
   "metadata": {},
   "outputs": [],
   "source": [
    "grb.print_GRB_status()\n",
    "\n",
    "grb_struc.print_GRB_status()"
   ]
  },
  {
   "cell_type": "code",
   "execution_count": null,
   "metadata": {},
   "outputs": [],
   "source": [
    "theta_shells = np.linspace(0, 20, 1+1)\n",
    "print(theta_shells)"
   ]
  },
  {
   "cell_type": "code",
   "execution_count": null,
   "metadata": {},
   "outputs": [],
   "source": [
    "grb.plot_gamma_radius_vs_time(tmin=10, tmax=1e5, num=300)"
   ]
  },
  {
   "cell_type": "code",
   "execution_count": null,
   "metadata": {},
   "outputs": [],
   "source": [
    "import numpy as np\n",
    "import matplotlib.pyplot as plt\n",
    "\n",
    "# Parametri\n",
    "Eiso_zero = 3                # erg\n",
    "\n",
    "\n",
    "# Angoli da 0 a 90 gradi\n",
    "theta = np.linspace(0, np.radians(30), 500)\n",
    "\n",
    "# Funzione con truncazione\n",
    "def E_theta_gaussian(theta, Eiso_zero, thetacore_deg, thetaw_deg):\n",
    "    thetacore = np.radians(thetacore_deg)\n",
    "    thetaw = np.radians(thetaw_deg)\n",
    "    E = np.zeros_like(theta)\n",
    "    inside = theta <= thetaw\n",
    "    E[inside] = Eiso_zero * np.exp(-(theta[inside]**2) / (2 * thetacore**2))\n",
    "    return E\n",
    "# Modello power-law (senza troncamento)\n",
    "\n",
    "def E_theta_powerlaw(theta, Eiso_zero, thetacore_deg,thetaw_deg,b):\n",
    "    thetacore = np.radians(thetacore_deg)\n",
    "    thetaw = np.radians(thetaw_deg)\n",
    "    E = np.zeros_like(theta)\n",
    "    inside = theta <= thetaw\n",
    "    E[inside] =Eiso_zero * (1 + (theta[inside]**2) / (b * thetacore**2))**(-b/2)\n",
    "    return E\n",
    "\n",
    "# Calcolo e plot\n",
    "E = E_theta_gaussian(theta, Eiso_zero, 6, 12)\n",
    "E_powerlaw = E_theta_powerlaw(theta, Eiso_zero, 2,20, b=4.5)\n",
    "\n",
    "plt.figure(figsize=(8,5))\n",
    "plt.plot(np.degrees(theta), E, label=r\"Gaussiano troncato °\" )\n",
    "plt.plot(np.degrees(theta), E_powerlaw, label=fr\"Power-law, $b$ = {4.5}\")\n",
    "#plt.axvline(thetaw_, color='gray', linestyle='--', label=r\"Troncamento $\\theta_w$\")\n",
    "plt.xlabel(\"θ (gradi)\")\n",
    "plt.ylabel(r\"$E_{\\mathrm{iso}}(\\theta)$ [erg]\")\n",
    "plt.title(\"Profilo angolare dell'energia isotropica\")\n",
    "plt.yscale(\"log\")\n",
    "plt.ylim(1e-3, 1e1)\n",
    "plt.legend()\n",
    "plt.grid(True)\n",
    "plt.tight_layout()\n",
    "plt.show()\n"
   ]
  },
  {
   "cell_type": "code",
   "execution_count": null,
   "metadata": {},
   "outputs": [],
   "source": []
  }
 ],
 "metadata": {
  "kernelspec": {
   "display_name": "grbmodel",
   "language": "python",
   "name": "python3"
  },
  "language_info": {
   "codemirror_mode": {
    "name": "ipython",
    "version": 3
   },
   "file_extension": ".py",
   "mimetype": "text/x-python",
   "name": "python",
   "nbconvert_exporter": "python",
   "pygments_lexer": "ipython3",
   "version": "3.7.6"
  }
 },
 "nbformat": 4,
 "nbformat_minor": 2
}
