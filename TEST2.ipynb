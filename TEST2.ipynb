{
 "cells": [
  {
   "cell_type": "code",
   "execution_count": 1,
   "metadata": {},
   "outputs": [
    {
     "name": "stdout",
     "output_type": "stream",
     "text": [
      "New quantities already defined\n"
     ]
    },
    {
     "name": "stderr",
     "output_type": "stream",
     "text": [
      "WARNING: AstropyDeprecationWarning: astropy.extern.six will be removed in 4.0, use the six module directly if it is still needed [astropy.extern.six]\n"
     ]
    }
   ],
   "source": [
    "# -*- coding: utf-8 -*-\n",
    "# Licensed under a 3-clause BSD style license - see LICENSE.rst\n",
    "import logging\n",
    "import os\n",
    "import warnings\n",
    "from collections import OrderedDict\n",
    "from multiprocessing import Pool\n",
    "\n",
    "import astropy\n",
    "from astropy.table import Table, hstack\n",
    "import astropy.units as u\n",
    "from astropy.io import ascii\n",
    "from astropy.constants import alpha, c, e, hbar, m_e, m_p, sigma_sb\n",
    "from astropy.utils.data import get_pkg_data_filename\n",
    "\n",
    "import numpy as np\n",
    "import matplotlib.pyplot as plt\n",
    "\n",
    "from Validator import (\n",
    "    validate_array,\n",
    "    validate_physical_type,\n",
    "    validate_scalar,\n",
    ")\n",
    "#from .model_utils import memoize\n",
    "from Utils import trapz_loglog\n",
    "\n",
    "import Models\n",
    "import Radiative\n",
    "import grbloader\n",
    "from grbloader import GRBModelling\n",
    "\n",
    "from astropy.units import def_physical_type\n",
    "\n",
    "try:\n",
    "    #def_physical_type(u.Unit(\"1 / eV\"), \"differential energy\")\n",
    "    def_physical_type(u.erg / u.cm**2 / u.s, \"flux\")\n",
    "    def_physical_type(u.Unit(\"1/(s cm2 erg)\"), \"differential flux\")\n",
    "    def_physical_type(u.Unit(\"1/(s erg)\"), \"differential power\")\n",
    "    def_physical_type(u.Unit(\"1/TeV\"), \"differential energy\")\n",
    "    def_physical_type(u.Unit(\"1/cm3\"), \"number density\")\n",
    "    def_physical_type(u.Unit(\"1/(eV cm3)\"), \"differential number density\")\n",
    "\n",
    "except ValueError:\n",
    "    print(\"New quantities already defined\")"
   ]
  },
  {
   "cell_type": "code",
   "execution_count": 2,
   "metadata": {},
   "outputs": [
    {
     "name": "stdout",
     "output_type": "stream",
     "text": [
      "WARNING: No dataset given,\n",
      "the code can be used only for computation of theoretical curves\n"
     ]
    }
   ],
   "source": [
    "Eiso = 8e53   # erg\n",
    "density = 0.5  # cm-3\n",
    "redshift = 0.4245\n",
    "tstart = 68   # s\n",
    "tstop = 110   # s\n",
    "\n",
    "#-----list of parameters of a electron distribution (log10) ------\n",
    "\n",
    "eta_e=-1.44\n",
    "Ebreak=-1.62\n",
    "Index2=3.17\n",
    "Ec=1.32\n",
    "B=0.29,\n",
    "\n",
    "#----------------------------------------------------------------------\n",
    "\"\"\"\n",
    "Initialize the GRBModelling class with the data and the given parameters\n",
    "\"\"\"\n",
    "grb = GRBModelling(eiso=Eiso, dens=density, tstart=tstart, tstop=tstop, redshift=redshift,\n",
    "                        pars=[eta_e, Ebreak,Index2, Ec,  B],\n",
    "                        labels=['log10(eta_e)', 'log10(Ebreak)', 'Index2', 'log10(Ec)', 'log10(B)'],scenario='ISM',cooling_constrain=False,data=None)\n"
   ]
  },
  {
   "cell_type": "code",
   "execution_count": null,
   "metadata": {},
   "outputs": [
    {
     "ename": "TypeError",
     "evalue": "quick_plot_sed() missing 4 required positional arguments: 'emin', 'emax', 'ymin', and 'ymax'",
     "output_type": "error",
     "traceback": [
      "\u001b[0;31m---------------------------------------------------------------------------\u001b[0m",
      "\u001b[0;31mTypeError\u001b[0m                                 Traceback (most recent call last)",
      "\u001b[0;32m<ipython-input-4-576ad88e5b41>\u001b[0m in \u001b[0;36m<module>\u001b[0;34m\u001b[0m\n\u001b[0;32m----> 1\u001b[0;31m \u001b[0mgrb\u001b[0m\u001b[0;34m.\u001b[0m\u001b[0mquick_plot_sed\u001b[0m\u001b[0;34m(\u001b[0m\u001b[0;34m)\u001b[0m\u001b[0;34m\u001b[0m\u001b[0;34m\u001b[0m\u001b[0m\n\u001b[0m",
      "\u001b[0;31mTypeError\u001b[0m: quick_plot_sed() missing 4 required positional arguments: 'emin', 'emax', 'ymin', and 'ymax'"
     ]
    }
   ],
   "source": [
    "grb.quick_plot_sed"
   ]
  },
  {
   "cell_type": "code",
   "execution_count": null,
   "metadata": {},
   "outputs": [],
   "source": []
  }
 ],
 "metadata": {
  "kernelspec": {
   "display_name": "grbmodel",
   "language": "python",
   "name": "python3"
  },
  "language_info": {
   "codemirror_mode": {
    "name": "ipython",
    "version": 3
   },
   "file_extension": ".py",
   "mimetype": "text/x-python",
   "name": "python",
   "nbconvert_exporter": "python",
   "pygments_lexer": "ipython3",
   "version": "3.7.6"
  }
 },
 "nbformat": 4,
 "nbformat_minor": 2
}
