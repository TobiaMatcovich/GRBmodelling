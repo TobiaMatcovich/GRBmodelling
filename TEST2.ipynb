{
 "cells": [
  {
   "cell_type": "code",
   "execution_count": 1,
   "metadata": {},
   "outputs": [
    {
     "name": "stdout",
     "output_type": "stream",
     "text": [
      "New quantities already defined\n"
     ]
    },
    {
     "name": "stderr",
     "output_type": "stream",
     "text": [
      "WARNING: AstropyDeprecationWarning: astropy.extern.six will be removed in 4.0, use the six module directly if it is still needed [astropy.extern.six]\n"
     ]
    }
   ],
   "source": [
    "# -*- coding: utf-8 -*-\n",
    "# Licensed under a 3-clause BSD style license - see LICENSE.rst\n",
    "import logging\n",
    "import os\n",
    "import warnings\n",
    "from collections import OrderedDict\n",
    "from multiprocessing import Pool\n",
    "\n",
    "import astropy\n",
    "from astropy.table import Table, hstack\n",
    "import astropy.units as u\n",
    "from astropy.io import ascii\n",
    "from astropy.constants import alpha, c, e, hbar, m_e, m_p, sigma_sb\n",
    "from astropy.utils.data import get_pkg_data_filename\n",
    "from astropy.cosmology import WMAP9 as cosmo\n",
    "\n",
    "import numpy as np\n",
    "import matplotlib.pyplot as plt\n",
    "\n",
    "from Validator import (\n",
    "    validate_array,\n",
    "    validate_physical_type,\n",
    "    validate_scalar,\n",
    ")\n",
    "#from .model_utils import memoize\n",
    "from Utils import trapz_loglog\n",
    "\n",
    "import Models\n",
    "import Radiative\n",
    "import grbloader\n",
    "from GRBmodel import GRBModel1\n",
    "\n",
    "from astropy.units import def_physical_type\n",
    "\n",
    "try:\n",
    "    #def_physical_type(u.Unit(\"1 / eV\"), \"differential energy\")\n",
    "    def_physical_type(u.erg / u.cm**2 / u.s, \"flux\")\n",
    "    def_physical_type(u.Unit(\"1/(s cm2 erg)\"), \"differential flux\")\n",
    "    def_physical_type(u.Unit(\"1/(s erg)\"), \"differential power\")\n",
    "    def_physical_type(u.Unit(\"1/TeV\"), \"differential energy\")\n",
    "    def_physical_type(u.Unit(\"1/cm3\"), \"number density\")\n",
    "    def_physical_type(u.Unit(\"1/(eV cm3)\"), \"differential number density\")\n",
    "\n",
    "except ValueError:\n",
    "    print(\"New quantities already defined\")"
   ]
  },
  {
   "cell_type": "code",
   "execution_count": 2,
   "metadata": {},
   "outputs": [
    {
     "name": "stdout",
     "output_type": "stream",
     "text": [
      "1.7299050902445734 kpc\n",
      "WARNING: No dataset given,\n",
      "the code can be used only for computation of theoretical curves\n"
     ]
    }
   ],
   "source": [
    "Eiso = 8e51  # erg\n",
    "density = 0.5  # cm-3\n",
    "redshift = 0.0000004\n",
    "tstart = 68   # s\n",
    "tstop = 110   # s\n",
    "\n",
    "#-----list of parameters of a electron distribution (log10) ------\n",
    "\n",
    "eta_e=-1.44\n",
    "Ebreak=-1.62\n",
    "Index2=3.17\n",
    "Ec=1.32  # cutoff energy in TeV\n",
    "B=0.29\n",
    "#B=100*u.uG\n",
    "\n",
    "Dl = cosmo.luminosity_distance(redshift).to(u.kpc)\n",
    "print(Dl)\n",
    "\n",
    "#---------------------------------------------------------------------------\n",
    "    \n",
    "\"\"\"\n",
    "Initialize the GRBModelling class with the data and the given parameters\n",
    "\"\"\"\n",
    "grb = GRBModel1(eiso=Eiso, dens=density, tstart=tstart, tstop=tstop, redshift=redshift,\n",
    "                        pars=[eta_e, Ebreak,Index2, Ec,  B],\n",
    "                        labels=['log10(eta_e)', 'log10(Ebreak)', 'Index2', 'log10(Ec)', 'log10(B)'],scenario='ISM',cooling_constrain=False,data=None)\n"
   ]
  },
  {
   "cell_type": "code",
   "execution_count": 3,
   "metadata": {},
   "outputs": [
    {
     "data": {
      "text/plain": [
       "0"
      ]
     },
     "execution_count": 3,
     "metadata": {},
     "output_type": "execute_result"
    }
   ],
   "source": [
    "grb.ic_comp"
   ]
  },
  {
   "cell_type": "code",
   "execution_count": null,
   "metadata": {},
   "outputs": [],
   "source": [
    "emin=1e-6\n",
    "emax=1e14\n",
    "bins = int(np.log10(emax/emin) * 20.)  # use 20 bins per decade\n",
    "ener = Table([np.logspace(np.log10(emin), np.log10(emax), bins) * u.eV], names=['energy'])  # energy in eV\n",
    "\n",
    "grb._SSSmodel_ind1fixed(pars=[eta_e, Ebreak,Index2, Ec, B],data=ener)"
   ]
  },
  {
   "cell_type": "code",
   "execution_count": null,
   "metadata": {},
   "outputs": [],
   "source": []
  },
  {
   "cell_type": "code",
   "execution_count": null,
   "metadata": {},
   "outputs": [],
   "source": [
    "grb.plot_sed(1e2,5e16,1e-1,1e3)\n"
   ]
  },
  {
   "cell_type": "code",
   "execution_count": null,
   "metadata": {},
   "outputs": [],
   "source": []
  }
 ],
 "metadata": {
  "kernelspec": {
   "display_name": "grbmodel",
   "language": "python",
   "name": "python3"
  },
  "language_info": {
   "codemirror_mode": {
    "name": "ipython",
    "version": 3
   },
   "file_extension": ".py",
   "mimetype": "text/x-python",
   "name": "python",
   "nbconvert_exporter": "python",
   "pygments_lexer": "ipython3",
   "version": "3.7.6"
  }
 },
 "nbformat": 4,
 "nbformat_minor": 2
}
